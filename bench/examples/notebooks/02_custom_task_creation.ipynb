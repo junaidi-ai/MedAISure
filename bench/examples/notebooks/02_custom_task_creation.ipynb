{
 "cells": [
  {
   "cell_type": "markdown",
   "id": "7fb27b941602401d91542211134fc71a",
   "metadata": {},
   "source": [
    "# 02 — Custom Task Creation\n\nThis notebook shows how to:\n\n- Create a new task definition (YAML) compatible with MedAISure\n- Validate and load the task via `EvaluationHarness`\n- Run a simple local model against the new task\n\nWe'll write a small YAML file into `bench/tasks/custom_demo.yaml`.\n"
   ]
  },
  {
   "cell_type": "code",
   "execution_count": null,
   "id": "acae54e37e7d407bbb7b55eff062a284",
   "metadata": {},
   "outputs": [],
   "source": [
    "from pathlib import Path\n",
    "import yaml\n",
    "from bench.evaluation.harness import EvaluationHarness\n",
    "\n",
    "tasks_dir = Path(\"bench/tasks\")\n",
    "custom_path = tasks_dir / \"custom_demo.yaml\"\n",
    "\n",
    "custom_task = {\n",
    "    \"name\": \"Custom Demo QA\",\n",
    "    \"description\": \"A tiny example QA task created from a notebook.\",\n",
    "    \"task_type\": \"qa\",\n",
    "    \"input_schema\": {\n",
    "        \"type\": \"object\",\n",
    "        \"properties\": {\"text\": {\"type\": \"string\"}},\n",
    "        \"required\": [\"text\"],\n",
    "    },\n",
    "    \"output_schema\": {\n",
    "        \"type\": \"object\",\n",
    "        \"properties\": {\"label\": {\"type\": \"string\"}},\n",
    "        \"required\": [\"label\"],\n",
    "    },\n",
    "    \"metrics\": [{\"name\": \"clinical_accuracy\"}, {\"name\": \"reasoning_quality\"}],\n",
    "    \"dataset\": [\n",
    "        {\n",
    "            \"input\": {\"text\": \"Patient presents with fever and cough.\"},\n",
    "            \"output\": {\"label\": \"flu-like\"},\n",
    "        },\n",
    "        {\n",
    "            \"input\": {\"text\": \"Complaints of chest pain during exertion.\"},\n",
    "            \"output\": {\"label\": \"cardiac-risk\"},\n",
    "        },\n",
    "    ],\n",
    "}\n",
    "custom_path.write_text(yaml.safe_dump(custom_task, sort_keys=False), encoding=\"utf-8\")\n",
    "print(\"Wrote\", custom_path)"
   ]
  },
  {
   "cell_type": "markdown",
   "id": "9a63283cbaf04dbcab1f6479b197f3a8",
   "metadata": {},
   "source": [
    "Load the new task with `EvaluationHarness` and run the local demo model `bench.examples.mypkg.mylocal`.\n"
   ]
  },
  {
   "cell_type": "code",
   "execution_count": null,
   "id": "8dd0d8092fe74a7c96281538738b07e2",
   "metadata": {},
   "outputs": [],
   "source": [
    "harness = EvaluationHarness(\n",
    "    tasks_dir=str(tasks_dir), results_dir=\"results\", cache_dir=\"cache\"\n",
    ")\n",
    "info = harness.get_task_info(\"custom_demo\")\n",
    "info"
   ]
  },
  {
   "cell_type": "code",
   "execution_count": null,
   "id": "72eea5119410473aa328ad9291626812",
   "metadata": {},
   "outputs": [],
   "source": [
    "report = harness.evaluate(\n",
    "    model_id=\"demo-local\",\n",
    "    task_ids=[\"custom_demo\"],\n",
    "    model_type=\"local\",\n",
    "    module_path=\"bench.examples.mypkg.mylocal\",\n",
    "    model_path=None,\n",
    ")\n",
    "report.overall_scores"
   ]
  },
  {
   "cell_type": "markdown",
   "id": "8edb47106e1a46a883d545849b8ab81b",
   "metadata": {},
   "source": [
    "You can inspect `report.detailed_results` for per-example predictions and metrics metadata.\n"
   ]
  },
  {
   "cell_type": "code",
   "execution_count": null,
   "id": "10185d26023b46108eb7d9f57d49d2b3",
   "metadata": {},
   "outputs": [],
   "source": [
    "(\n",
    "    len(report.detailed_results),\n",
    "    report.detailed_results[0].metrics_results,\n",
    "    report.detailed_results[0].metadata.get(\"predictions\"),\n",
    ")"
   ]
  },
  {
   "cell_type": "markdown",
   "id": "8763a12b2bbd4a93a75aff182afb95dc",
   "metadata": {},
   "source": [
    "Cleanup note: If you want to remove the demo task file, delete `bench/tasks/custom_demo.yaml`.\n"
   ]
  }
 ],
 "metadata": {
  "kernelspec": {
   "display_name": "Python 3",
   "language": "python",
   "name": "python3"
  },
  "language_info": {
   "name": "python",
   "version": "3"
  }
 },
 "nbformat": 4,
 "nbformat_minor": 5
}
