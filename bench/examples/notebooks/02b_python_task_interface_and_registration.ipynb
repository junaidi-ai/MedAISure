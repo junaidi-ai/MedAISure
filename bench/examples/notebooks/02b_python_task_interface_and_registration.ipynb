{
 "cells": [
  {
   "cell_type": "markdown",
   "id": "7fb27b941602401d91542211134fc71a",
   "metadata": {},
   "source": [
    "# 02b — Python Task Interface & Registration\n\nThis notebook shows how to:\n\n- Define a `MedicalTask` programmatically (Python)\n- Save it to YAML for reuse\n- Register/load it via `TaskRegistry` / `TaskLoader`\n- Evaluate it using `EvaluationHarness`\n\nThis complements `02_custom_task_creation.ipynb` (YAML-first)."
   ]
  },
  {
   "cell_type": "code",
   "execution_count": null,
   "id": "acae54e37e7d407bbb7b55eff062a284",
   "metadata": {},
   "outputs": [],
   "source": [
    "from pathlib import Path\n",
    "from bench.models.medical_task import MedicalTask, TaskType\n",
    "from bench.evaluation.task_registry import TaskRegistry\n",
    "from bench.evaluation.harness import EvaluationHarness\n",
    "\n",
    "# 1) Define a small QA task in Python\n",
    "py_task = MedicalTask(\n",
    "    task_id=\"python_demo_qa\",\n",
    "    task_type=TaskType.QA,\n",
    "    name=\"Python Demo QA\",\n",
    "    description=\"Tiny QA task defined via Python API\",\n",
    "    inputs=[{\"question\": \"What does BP stand for?\"}],\n",
    "    expected_outputs=[{\"answer\": \"blood pressure\"}],\n",
    "    metrics=[\"clinical_correctness\", \"accuracy\"],\n",
    "    input_schema={\"required\": [\"question\"]},\n",
    "    output_schema={\"required\": [\"answer\"]},\n",
    "    dataset=[\n",
    "        {\n",
    "            \"input\": {\"question\": \"Patient has fever and cough? diagnosis?\"},\n",
    "            \"output\": {\"answer\": \"flu-like\"},\n",
    "        },\n",
    "        {\n",
    "            \"input\": {\"question\": \"What does BP stand for?\"},\n",
    "            \"output\": {\"answer\": \"blood pressure\"},\n",
    "        },\n",
    "    ],\n",
    ")\n",
    "py_task"
   ]
  },
  {
   "cell_type": "markdown",
   "id": "9a63283cbaf04dbcab1f6479b197f3a8",
   "metadata": {},
   "source": [
    "2) Save to YAML under `bench/tasks/` so it can be loaded like other tasks."
   ]
  },
  {
   "cell_type": "code",
   "execution_count": null,
   "id": "8dd0d8092fe74a7c96281538738b07e2",
   "metadata": {},
   "outputs": [],
   "source": [
    "tasks_dir = Path(\"bench/tasks\")\n",
    "tasks_dir.mkdir(parents=True, exist_ok=True)\n",
    "yaml_path = tasks_dir / f\"{py_task.task_id}.yaml\"\n",
    "py_task.save(yaml_path, format=\"yaml\")\n",
    "yaml_path, yaml_path.exists()"
   ]
  },
  {
   "cell_type": "markdown",
   "id": "72eea5119410473aa328ad9291626812",
   "metadata": {},
   "source": [
    "3) Register or discover the task. `TaskRegistry` wraps `TaskLoader` and makes listing/filtering easier."
   ]
  },
  {
   "cell_type": "code",
   "execution_count": null,
   "id": "8edb47106e1a46a883d545849b8ab81b",
   "metadata": {},
   "outputs": [],
   "source": [
    "reg = TaskRegistry(tasks_dir=\"bench/tasks\")\n",
    "reg.discover()\n",
    "summary = [\n",
    "    r for r in reg.list_available(has_metrics=True) if r.task_id == py_task.task_id\n",
    "]\n",
    "[(s.task_id, s.num_examples, s.metrics) for s in summary]"
   ]
  },
  {
   "cell_type": "markdown",
   "id": "10185d26023b46108eb7d9f57d49d2b3",
   "metadata": {},
   "source": [
    "4) Evaluate using the local demo model."
   ]
  },
  {
   "cell_type": "code",
   "execution_count": null,
   "id": "8763a12b2bbd4a93a75aff182afb95dc",
   "metadata": {},
   "outputs": [],
   "source": [
    "h = EvaluationHarness(tasks_dir=\"bench/tasks\", results_dir=\"results\", cache_dir=\"cache\")\n",
    "rep = h.evaluate(\n",
    "    model_id=\"demo-local\",\n",
    "    task_ids=[py_task.task_id],\n",
    "    model_type=\"local\",\n",
    "    module_path=\"bench.examples.mypkg.mylocal\",\n",
    "    model_path=None,\n",
    ")\n",
    "rep.overall_scores"
   ]
  },
  {
   "cell_type": "markdown",
   "id": "7623eae2785240b9bd12b16a66d81610",
   "metadata": {},
   "source": [
    "Notes:\n- For larger datasets, store your data externally and assemble the `dataset` entries (or implement a loader to feed `EvaluationHarness` inputs).\n- The YAML route (`02_custom_task_creation.ipynb`) remains the simplest for sharing tasks. The Python API is helpful for dynamic generation or programmatic pipelines.\n- For direct registration without writing files, see `TaskRegistry.register(MedicalTask(...))`.\n"
   ]
  }
 ],
 "metadata": {
  "kernelspec": {
   "display_name": "Python 3",
   "language": "python",
   "name": "python3"
  },
  "language_info": {
   "name": "python",
   "version": "3"
  }
 },
 "nbformat": 4,
 "nbformat_minor": 5
}
